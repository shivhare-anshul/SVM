{
 "cells": [
  {
   "cell_type": "code",
   "execution_count": 1,
   "id": "42f57f1d",
   "metadata": {},
   "outputs": [],
   "source": [
    "import numpy as np\n",
    "from sklearn.decomposition import PCA\n",
    "from sklearn.feature_extraction.text import TfidfVectorizer\n",
    "from sklearn.svm import SVC\n",
    "import seaborn as sns\n",
    "import matplotlib.pyplot as plt\n",
    "%matplotlib inline"
   ]
  },
  {
   "cell_type": "code",
   "execution_count": 2,
   "id": "f9253bb4",
   "metadata": {},
   "outputs": [
    {
     "name": "stdout",
     "output_type": "stream",
     "text": [
      "\n",
      "Size of whole data in number of lines is : 1000\n"
     ]
    }
   ],
   "source": [
    "f=open('././movieReviews1000.txt',\"r\")                #opening file in read mode\n",
    "#contents is a list with each elements as a line of the text\n",
    "text=f.readlines()                       #reading the whole line\n",
    "N=len(text)                              #total number of lines\n",
    "\n",
    "#removing End Labels\n",
    "label=[]                                 #empty list to store lable \n",
    "for i in range(N):\n",
    "    label.append((text[i][len(text[i])-2]))   #appending the  lable from the test lines\n",
    "    label[i]=int((label[i]))                 \n",
    "    #print(label[i])\n",
    "    text[i]=text[i][:(len(text[i])-2)]         #updating text by removing label\n",
    "    \n",
    "    \n",
    "y_test=label[750:1000]                    #this will store last 250 samples to y_test\n",
    "y_train=label[0:750]                      #this will store first 750 samples in y_train\n",
    "\n",
    "print(\"\\nSize of whole data in number of lines is :\",N)\n"
   ]
  },
  {
   "cell_type": "code",
   "execution_count": 3,
   "id": "a4b91c02",
   "metadata": {},
   "outputs": [
    {
     "name": "stdout",
     "output_type": "stream",
     "text": [
      "\n",
      "the dimension of whole data before applying pca and before dividing it to test and train : (1000, 3109)\n",
      "\n",
      "the dimension of X_test  after applying pca is : (250, 10)\n",
      "the dimension of X_train after applying pca is : (750, 10)\n",
      "\n",
      "the dimension of y_test that is labels of test dataset : (250,)\n",
      "the dimension of y_train that is labels of train dataset : (750,)\n"
     ]
    }
   ],
   "source": [
    "pca = PCA(n_components=10)                      #PCA for 10 dimension\n",
    "\n",
    "#vectoriztion\n",
    "vectorizer = TfidfVectorizer()                  #tfidf\n",
    "vectors = vectorizer.fit_transform(text)\n",
    "feature_names = vectorizer.get_feature_names()\n",
    "X_train = vectors.todense()\n",
    "\n",
    "print(\"\\nthe dimension of whole data before applying pca and before dividing it to test and train :\",X_train.shape)   #dim (1000,3109)\n",
    "\n",
    "\n",
    "pca.fit(X_train)                                 #dimensionlity reduction in whole train data\n",
    "X_train = pca.transform(X_train)\n",
    "\n",
    "X_test=X_train[750:1000]                         #storing last 250 samples of train in X_train\n",
    "X_train=X_train[0:750]                           ##storing first 750 samples of train in X_train\n",
    "\n",
    "y_train_1=np.array(y_train)\n",
    "y_test_1=np.array(y_test)\n",
    "\n",
    "print(\"\\nthe dimension of X_test  after applying pca is :\",X_test.shape)               #dim (250,10)\n",
    "print(\"the dimension of X_train after applying pca is :\",X_train.shape)             #dim (750,10)\n",
    "\n",
    "print(\"\\nthe dimension of y_test that is labels of test dataset :\",y_test_1.shape)               #dim (250,)\n",
    "print(\"the dimension of y_train that is labels of train dataset :\",y_train_1.shape)             #dim (750,)\n"
   ]
  },
  {
   "cell_type": "code",
   "execution_count": null,
   "id": "57a567bc",
   "metadata": {},
   "outputs": [],
   "source": []
  },
  {
   "cell_type": "code",
   "execution_count": 4,
   "id": "4a6d2a4c",
   "metadata": {
    "scrolled": true
   },
   "outputs": [
    {
     "name": "stdout",
     "output_type": "stream",
     "text": [
      "\n",
      "\n",
      "\n",
      "\n",
      " Kernel = linear\n",
      "\n",
      "\n",
      "penalty  1.00 \t\t Accuracy 0.44 \t\t support vectors 682.00 \t\t misclassified 140.00\n",
      "penalty  10.00 \t\t Accuracy 0.61 \t\t support vectors 634.00 \t\t misclassified 97.00\n",
      "penalty  20.00 \t\t Accuracy 0.63 \t\t support vectors 619.00 \t\t misclassified 92.00\n",
      "penalty  30.00 \t\t Accuracy 0.63 \t\t support vectors 615.00 \t\t misclassified 92.00\n",
      "penalty  40.00 \t\t Accuracy 0.64 \t\t support vectors 610.00 \t\t misclassified 89.00\n",
      "penalty  50.00 \t\t Accuracy 0.65 \t\t support vectors 610.00 \t\t misclassified 88.00\n",
      "penalty  70.00 \t\t Accuracy 0.61 \t\t support vectors 609.00 \t\t misclassified 97.00\n",
      "\n",
      "\n",
      "\n",
      "\n",
      "\n",
      "\n",
      " Kernel = poly\n",
      "\n",
      "\n",
      "\n",
      " Degree 1\n",
      "penalty  1.00 \t\t Accuracy 0.39 \t\t support vectors 696.00 \t\t misclassified 153.00\n",
      "penalty  10.00 \t\t Accuracy 0.44 \t\t support vectors 682.00 \t\t misclassified 140.00\n",
      "penalty  20.00 \t\t Accuracy 0.53 \t\t support vectors 669.00 \t\t misclassified 117.00\n",
      "penalty  30.00 \t\t Accuracy 0.57 \t\t support vectors 661.00 \t\t misclassified 108.00\n",
      "penalty  40.00 \t\t Accuracy 0.60 \t\t support vectors 654.00 \t\t misclassified 101.00\n",
      "penalty  50.00 \t\t Accuracy 0.60 \t\t support vectors 647.00 \t\t misclassified 99.00\n",
      "penalty  70.00 \t\t Accuracy 0.61 \t\t support vectors 642.00 \t\t misclassified 98.00\n",
      "\n",
      " Degree 2\n",
      "penalty  1.00 \t\t Accuracy 0.39 \t\t support vectors 694.00 \t\t misclassified 153.00\n",
      "penalty  10.00 \t\t Accuracy 0.39 \t\t support vectors 698.00 \t\t misclassified 153.00\n",
      "penalty  20.00 \t\t Accuracy 0.39 \t\t support vectors 701.00 \t\t misclassified 153.00\n",
      "penalty  30.00 \t\t Accuracy 0.39 \t\t support vectors 701.00 \t\t misclassified 153.00\n",
      "penalty  40.00 \t\t Accuracy 0.39 \t\t support vectors 703.00 \t\t misclassified 153.00\n",
      "penalty  50.00 \t\t Accuracy 0.39 \t\t support vectors 703.00 \t\t misclassified 153.00\n",
      "penalty  70.00 \t\t Accuracy 0.39 \t\t support vectors 703.00 \t\t misclassified 152.00\n",
      "\n",
      " Degree 3\n",
      "penalty  1.00 \t\t Accuracy 0.39 \t\t support vectors 694.00 \t\t misclassified 153.00\n",
      "penalty  10.00 \t\t Accuracy 0.39 \t\t support vectors 694.00 \t\t misclassified 153.00\n",
      "penalty  20.00 \t\t Accuracy 0.39 \t\t support vectors 694.00 \t\t misclassified 153.00\n",
      "penalty  30.00 \t\t Accuracy 0.39 \t\t support vectors 694.00 \t\t misclassified 153.00\n",
      "penalty  40.00 \t\t Accuracy 0.39 \t\t support vectors 694.00 \t\t misclassified 153.00\n",
      "penalty  50.00 \t\t Accuracy 0.39 \t\t support vectors 695.00 \t\t misclassified 153.00\n",
      "penalty  70.00 \t\t Accuracy 0.39 \t\t support vectors 696.00 \t\t misclassified 153.00\n",
      "\n",
      " Degree 5\n",
      "penalty  1.00 \t\t Accuracy 0.39 \t\t support vectors 694.00 \t\t misclassified 153.00\n",
      "penalty  10.00 \t\t Accuracy 0.39 \t\t support vectors 694.00 \t\t misclassified 153.00\n",
      "penalty  20.00 \t\t Accuracy 0.39 \t\t support vectors 694.00 \t\t misclassified 153.00\n",
      "penalty  30.00 \t\t Accuracy 0.39 \t\t support vectors 694.00 \t\t misclassified 153.00\n",
      "penalty  40.00 \t\t Accuracy 0.39 \t\t support vectors 694.00 \t\t misclassified 153.00\n",
      "penalty  50.00 \t\t Accuracy 0.39 \t\t support vectors 694.00 \t\t misclassified 153.00\n",
      "penalty  70.00 \t\t Accuracy 0.39 \t\t support vectors 694.00 \t\t misclassified 153.00\n",
      "\n",
      " Degree 7\n",
      "penalty  1.00 \t\t Accuracy 0.39 \t\t support vectors 694.00 \t\t misclassified 153.00\n",
      "penalty  10.00 \t\t Accuracy 0.39 \t\t support vectors 694.00 \t\t misclassified 153.00\n",
      "penalty  20.00 \t\t Accuracy 0.39 \t\t support vectors 694.00 \t\t misclassified 153.00\n",
      "penalty  30.00 \t\t Accuracy 0.39 \t\t support vectors 694.00 \t\t misclassified 153.00\n",
      "penalty  40.00 \t\t Accuracy 0.39 \t\t support vectors 694.00 \t\t misclassified 153.00\n",
      "penalty  50.00 \t\t Accuracy 0.39 \t\t support vectors 694.00 \t\t misclassified 153.00\n",
      "penalty  70.00 \t\t Accuracy 0.39 \t\t support vectors 694.00 \t\t misclassified 153.00\n",
      "\n",
      " Degree 10\n",
      "penalty  1.00 \t\t Accuracy 0.39 \t\t support vectors 694.00 \t\t misclassified 153.00\n",
      "penalty  10.00 \t\t Accuracy 0.39 \t\t support vectors 694.00 \t\t misclassified 153.00\n",
      "penalty  20.00 \t\t Accuracy 0.39 \t\t support vectors 694.00 \t\t misclassified 153.00\n",
      "penalty  30.00 \t\t Accuracy 0.39 \t\t support vectors 694.00 \t\t misclassified 153.00\n",
      "penalty  40.00 \t\t Accuracy 0.39 \t\t support vectors 694.00 \t\t misclassified 153.00\n",
      "penalty  50.00 \t\t Accuracy 0.39 \t\t support vectors 694.00 \t\t misclassified 153.00\n",
      "penalty  70.00 \t\t Accuracy 0.39 \t\t support vectors 694.00 \t\t misclassified 153.00\n",
      "\n",
      "\n",
      "\n",
      "\n",
      "\n",
      "\n",
      " Kernel = rbf\n",
      "\n",
      "\n",
      "penalty  1.00 \t\t Accuracy 0.39 \t\t support vectors 696.00 \t\t misclassified 153.00\n",
      "penalty  10.00 \t\t Accuracy 0.53 \t\t support vectors 670.00 \t\t misclassified 117.00\n",
      "penalty  20.00 \t\t Accuracy 0.61 \t\t support vectors 654.00 \t\t misclassified 97.00\n",
      "penalty  30.00 \t\t Accuracy 0.62 \t\t support vectors 643.00 \t\t misclassified 95.00\n",
      "penalty  40.00 \t\t Accuracy 0.62 \t\t support vectors 638.00 \t\t misclassified 95.00\n",
      "penalty  50.00 \t\t Accuracy 0.62 \t\t support vectors 633.00 \t\t misclassified 94.00\n",
      "penalty  70.00 \t\t Accuracy 0.64 \t\t support vectors 628.00 \t\t misclassified 91.00\n",
      "\n",
      "\n"
     ]
    }
   ],
   "source": [
    "#looping for different kernel and for polynomial function looping for different degrees\n",
    "\n",
    "degrees = [1,2, 3, 5, 7,10]                   #a list, which contains degrees of polynomial\n",
    "kernel=['linear','poly','rbf']                #kernels which we will be comparing\n",
    "CS=[1, 10, 20,30,40,50,70]                    #penalty\n",
    "\n",
    "accuracy_linear=[]\n",
    "accuracy_rbf=[]\n",
    "accuracy_poly1=[]\n",
    "accuracy_poly2=[]\n",
    "accuracy_poly3=[]\n",
    "accuracy_poly5=[]\n",
    "accuracy_poly7=[]\n",
    "accuracy_poly10=[]\n",
    "sv=[]\n",
    "\n",
    "for k in kernel:\n",
    "    print(\"\\n\\n\\n\\n Kernel =\",k)\n",
    "    \n",
    "    print(\"\\n\")\n",
    "    if(k=='poly'):\n",
    "        for degree in degrees:\n",
    "            print(\"\\n Degree\",degree)\n",
    "            \n",
    "            min_acc=1\n",
    "            for c in CS:\n",
    "                clf=SVC(kernel=k,random_state=0,C=c,gamma=0.1,degree=degree).fit(X_train,y_train)    #extra degree variable\n",
    "                total_sv=len(clf.support_vectors_)\n",
    "                y_pred=clf.predict(X_test)\n",
    "                \n",
    "                acurracy=sum(y_pred==y_test)              #calculating correctly classified \n",
    "                misclassified=sum(y_pred!=y_test)         #calculating incorrectly classified \n",
    "                size=len(y_test)\n",
    "                acc=acurracy/size                         #accuracy \n",
    "                #format(321,\".2f\")\n",
    "                print(\"penalty \",format(c,\".2f\"),\"\\t\\t Accuracy\",format(acc,\".2f\"),\"\\t\\t support vectors\",format(total_sv,\".2f\"),\"\\t\\t misclassified\",format(misclassified,\".2f\"))\n",
    "                \n",
    "                \n",
    "                \n",
    "                if(degree==1):\n",
    "                    accuracy_poly1.append(acc)\n",
    "                    sv.append(total_sv)\n",
    "                elif(degree==2):\n",
    "                    accuracy_poly2.append(acc)\n",
    "                elif(degree==3):\n",
    "                    accuracy_poly3.append(acc) \n",
    "                elif(degree==5):\n",
    "                    accuracy_poly5.append(acc) \n",
    "                elif(degree==7):\n",
    "                    accuracy_poly7.append(acc) \n",
    "                elif(degree==10):\n",
    "                    accuracy_poly10.append(acc)\n",
    "                   \n",
    "                    \n",
    "                            \n",
    "                            \n",
    "    else:                                                      #this else is for kernels linear and rbf\n",
    "        for c in CS:\n",
    "            clf=SVC(kernel=k,random_state=0,C=c,gamma=0.1).fit(X_train,y_train)\n",
    "            total_sv=len(clf.support_vectors_)  \n",
    "            y_pred=clf.predict(X_test)\n",
    "            \n",
    "            acurracy=sum(y_pred==y_test)                         #calculating correctly classified for linear and rbf\n",
    "            misclassified=sum(y_pred!=y_test)                    #calculating incorrectly classified for linear and rbf\n",
    "            size=len(y_test)\n",
    "            acc=acurracy/size\n",
    "            \n",
    "            if(k=='linear'):\n",
    "                   accuracy_linear.append(acc)\n",
    "            elif(k=='rbf'):\n",
    "                accuracy_rbf.append(acc)\n",
    "            \n",
    "            print(\"penalty \",format(c,\".2f\"),\"\\t\\t Accuracy\",format(acc,\".2f\"),\"\\t\\t support vectors\",format(total_sv,\".2f\"),\"\\t\\t misclassified\",format(misclassified,\".2f\"))\n",
    "    print(\"\\n\")\n"
   ]
  },
  {
   "cell_type": "code",
   "execution_count": 5,
   "id": "25ae0c3e",
   "metadata": {
    "scrolled": true
   },
   "outputs": [
    {
     "data": {
      "image/png": "[encoded data removed]",
      "text/plain": [
       "<Figure size 432x288 with 1 Axes>"
      ]
     },
     "metadata": {
      "needs_background": "light"
     },
     "output_type": "display_data"
    }
   ],
   "source": [
    "#graph for accuracy when linear kernel is applied with respect to the penalty\n",
    "\n",
    "plt.bar(CS, accuracy_linear)\n",
    "plt.xlabel(\"penalty\")\n",
    "plt.ylabel(\"accuracy \")\n",
    "plt.title(\"Linear kernel\")\n",
    "plt.savefig('linear.png')\n",
    "\n",
    "plt.show()"
   ]
  },
  {
   "cell_type": "code",
   "execution_count": 6,
   "id": "4cfac078",
   "metadata": {},
   "outputs": [
    {
     "data": {
      "image/png": "[encoded data removed]",
      "text/plain": [
       "<Figure size 432x288 with 1 Axes>"
      ]
     },
     "metadata": {
      "needs_background": "light"
     },
     "output_type": "display_data"
    }
   ],
   "source": [
    "#graph for accuracy when rbf kernel is applied with respect to the penalty\n",
    "\n",
    "plt.bar(CS, accuracy_rbf)\n",
    "plt.xlabel(\"penalty\")\n",
    "plt.ylabel(\"accuracy \")\n",
    "plt.title(\"rbf kernel\")\n",
    "plt.savefig('rbf.png')\n",
    "\n",
    "plt.show()"
   ]
  },
  {
   "cell_type": "code",
   "execution_count": 7,
   "id": "43837c7b",
   "metadata": {},
   "outputs": [
    {
     "data": {
      "image/png": "[encoded data removed]",
      "text/plain": [
       "<Figure size 432x288 with 1 Axes>"
      ]
     },
     "metadata": {
      "needs_background": "light"
     },
     "output_type": "display_data"
    }
   ],
   "source": [
    "#graph for accuracy when polynomial  kernel is applied with respect to the penalty\n",
    "\n",
    "plt.bar(CS, accuracy_poly1)\n",
    "plt.xlabel(\"penalty\")\n",
    "plt.ylabel(\"accuracy \")\n",
    "plt.title(\"poly kernel for degree 1\")\n",
    "plt.savefig('polynomiald1.png')\n",
    "plt.show()"
   ]
  },
  {
   "cell_type": "code",
   "execution_count": 8,
   "id": "6fa62e22",
   "metadata": {},
   "outputs": [
    {
     "data": {
      "image/png": "[encoded data removed]",
      "text/plain": [
       "<Figure size 432x288 with 1 Axes>"
      ]
     },
     "metadata": {
      "needs_background": "light"
     },
     "output_type": "display_data"
    }
   ],
   "source": [
    "#graph for accuracy when polynomial  kernel is applied with respect to the penalty\n",
    "\n",
    "plt.bar(CS, accuracy_poly2)\n",
    "plt.xlabel(\"penalty\")\n",
    "plt.ylabel(\"accuracy \")\n",
    "plt.title(\"poly kernel for degree 2\")\n",
    "plt.savefig('polynomiald2.png')\n",
    "plt.show()"
   ]
  },
  {
   "cell_type": "code",
   "execution_count": 9,
   "id": "c65a3c3e",
   "metadata": {},
   "outputs": [
    {
     "data": {
      "image/png": "[encoded data removed]",
      "text/plain": [
       "<Figure size 432x288 with 1 Axes>"
      ]
     },
     "metadata": {
      "needs_background": "light"
     },
     "output_type": "display_data"
    }
   ],
   "source": [
    "#graph for accuracy when polynomial  kernel is applied with respect to the penalty\n",
    "\n",
    "plt.bar(CS, accuracy_poly10)\n",
    "plt.xlabel(\"penalty\")\n",
    "plt.ylabel(\"accuracy \")\n",
    "plt.title(\"poly kernel for degree 10\")\n",
    "plt.savefig('polynomiald10.png')\n",
    "plt.show()"
   ]
  },
  {
   "cell_type": "code",
   "execution_count": 10,
   "id": "9e117e8e",
   "metadata": {},
   "outputs": [
    {
     "data": {
      "image/png": "[encoded data removed]",
      "text/plain": [
       "<Figure size 432x288 with 1 Axes>"
      ]
     },
     "metadata": {
      "needs_background": "light"
     },
     "output_type": "display_data"
    }
   ],
   "source": [
    "plt.bar(CS,sv)\n",
    "plt.xlabel(\"penalty\")\n",
    "plt.ylabel(\"no. of support vectors\")\n",
    "plt.title(\"poly kernel for degree 1\")\n",
    "plt.savefig('polynomialsv.png')\n",
    "plt.show()"
   ]
  },
  {
   "cell_type": "code",
   "execution_count": null,
   "id": "f382996a",
   "metadata": {},
   "outputs": [],
   "source": []
  },
  {
   "cell_type": "markdown",
   "id": "c52047b3",
   "metadata": {},
   "source": [
    "### Observations:\n",
    "###  You can see the graph above plotted between the accuracy for a particular kernel and the penalty for missclassfication\n",
    "\n",
    "###  I observed that for all types of kernel, if i increase the penalty for misclassification then accuracy increases. but here mostly accuracy becomes stable after few penalty as we have less data .\n",
    "\n",
    "### Note:Estimated parameters converge in probability to true parameters when the number of samples is sufficiently large.\n",
    "\n",
    "### for the above data set, Linear and rbf kernel gives almost almost same accuracy for different penalties.\n",
    "\n",
    "###  polynomial kernel, we know that as we increase the degree of polynomial our training accuracy increases. \n",
    "\n",
    "###  on comparing linear kernel with degree 1 polynomial , we are getting the same accuracies. but as degree increases our accuracies with penalty do not vary much in polynomial kernel, this may be because the data is already overfitted. \n",
    "\n",
    "### hence as we increase the degree of polynomial ,the traning data fits more properly ,but on test data the accuracy decreases . for the above data linear (degree 1) polynomial is best fit , because after degree 2 we are getting less test accuracy (overfiiting on train data).\n",
    "\n",
    "### so here the order of polynomials play a very important role for generalization purpose. also  as the order of polynomial increases both kind of error decreases ,later is becomes stable."
   ]
  },
  {
   "cell_type": "code",
   "execution_count": null,
   "id": "f6069d13",
   "metadata": {},
   "outputs": [],
   "source": []
  },
  {
   "cell_type": "code",
   "execution_count": null,
   "id": "5a2307cb",
   "metadata": {},
   "outputs": [],
   "source": []
  },
  {
   "cell_type": "code",
   "execution_count": null,
   "id": "6af360db",
   "metadata": {},
   "outputs": [],
   "source": []
  },
  {
   "cell_type": "code",
   "execution_count": null,
   "id": "16b5f341",
   "metadata": {},
   "outputs": [],
   "source": []
  },
  {
   "cell_type": "code",
   "execution_count": null,
   "id": "0836b150",
   "metadata": {},
   "outputs": [],
   "source": []
  },
  {
   "cell_type": "code",
   "execution_count": null,
   "id": "1069853c",
   "metadata": {},
   "outputs": [],
   "source": []
  },
  {
   "cell_type": "code",
   "execution_count": null,
   "id": "ce89dd69",
   "metadata": {},
   "outputs": [],
   "source": []
  },
  {
   "cell_type": "code",
   "execution_count": null,
   "id": "0face651",
   "metadata": {},
   "outputs": [],
   "source": []
  },
  {
   "cell_type": "code",
   "execution_count": null,
   "id": "dea53cf2",
   "metadata": {},
   "outputs": [],
   "source": []
  },
  {
   "cell_type": "code",
   "execution_count": null,
   "id": "8d7eee4b",
   "metadata": {},
   "outputs": [],
   "source": []
  },
  {
   "cell_type": "code",
   "execution_count": null,
   "id": "ace79427",
   "metadata": {},
   "outputs": [],
   "source": []
  }
 ],
 "metadata": {
  "kernelspec": {
   "display_name": "Python 3",
   "language": "python",
   "name": "python3"
  },
  "language_info": {
   "codemirror_mode": {
    "name": "ipython",
    "version": 3
   },
   "file_extension": ".py",
   "mimetype": "text/x-python",
   "name": "python",
   "nbconvert_exporter": "python",
   "pygments_lexer": "ipython3",
   "version": "3.8.3"
  }
 },
 "nbformat": 4,
 "nbformat_minor": 5
}
